{
 "cells": [
  {
   "cell_type": "markdown",
   "id": "73741bfd",
   "metadata": {},
   "source": [
    "# Proyecto 01\n",
    "\n",
    "## Mostrando informacion al usuario\n",
    "\n",
    "Comando print()"
   ]
  },
  {
   "cell_type": "code",
   "execution_count": 2,
   "id": "0c550143",
   "metadata": {},
   "outputs": [
    {
     "name": "stdout",
     "output_type": "stream",
     "text": [
      "Semana de Python en la practica\n",
      "Nico, el mejor profe de Python :) !\n"
     ]
    }
   ],
   "source": [
    "print(\"Semana de Python en la practica\")\n",
    "print(\"Nico, el mejor profe de Python :) !\")"
   ]
  },
  {
   "cell_type": "markdown",
   "id": "011d0d58",
   "metadata": {},
   "source": [
    "## Recibir datos del usuario\n",
    "\n",
    "Comando input()"
   ]
  },
  {
   "cell_type": "code",
   "execution_count": 4,
   "id": "89bd294c",
   "metadata": {},
   "outputs": [
    {
     "data": {
      "text/plain": [
       "'Python'"
      ]
     },
     "execution_count": 4,
     "metadata": {},
     "output_type": "execute_result"
    }
   ],
   "source": [
    "input(\"Digita tu nombre:\")\n",
    "input(\"Cual es el mejor lenguaje de programacion del mundo?\")"
   ]
  },
  {
   "cell_type": "markdown",
   "id": "64520c8f",
   "metadata": {},
   "source": [
    "## Almacenando datos en variables"
   ]
  },
  {
   "cell_type": "code",
   "execution_count": 15,
   "id": "1ec7d20e",
   "metadata": {},
   "outputs": [],
   "source": [
    "proyecto = \"Mi primer proyecto en Python\"\n",
    "numero = 10"
   ]
  },
  {
   "cell_type": "code",
   "execution_count": 13,
   "id": "078ab19b",
   "metadata": {},
   "outputs": [
    {
     "data": {
      "text/plain": [
       "10"
      ]
     },
     "execution_count": 13,
     "metadata": {},
     "output_type": "execute_result"
    }
   ],
   "source": [
    "numero"
   ]
  },
  {
   "cell_type": "markdown",
   "id": "8a8bb9c2",
   "metadata": {},
   "source": [
    "## Mezclando los conceptos aprendidos"
   ]
  },
  {
   "cell_type": "code",
   "execution_count": 27,
   "id": "d702426e",
   "metadata": {},
   "outputs": [],
   "source": [
    "proyecto = input(\"Digita la descripcion del proyecto: \")\n",
    "horas_estimadas = input(\"Digita la cantidad de horas estimadas: \")\n",
    "valor_hora = input(\"Digita el valor por hora: \")  \n",
    "tiempo_estimado = input(\"Digita el tiempo estimado: \")"
   ]
  },
  {
   "cell_type": "code",
   "execution_count": 28,
   "id": "3d10195e",
   "metadata": {},
   "outputs": [
    {
     "name": "stdout",
     "output_type": "stream",
     "text": [
      "Mi primer proyecto con Python\n",
      "120\n",
      "90\n",
      "2 meses\n"
     ]
    }
   ],
   "source": [
    "print(proyecto)\n",
    "print(horas_estimadas)\n",
    "print(valor_hora)\n",
    "print(tiempo_estimado)"
   ]
  },
  {
   "cell_type": "markdown",
   "id": "2cee80d9",
   "metadata": {},
   "source": [
    "## Calculos con Python"
   ]
  },
  {
   "cell_type": "code",
   "execution_count": 25,
   "id": "f3c1b30a",
   "metadata": {},
   "outputs": [
    {
     "name": "stdout",
     "output_type": "stream",
     "text": [
      "20\n",
      "1991\n",
      "100\n",
      "5.0\n"
     ]
    }
   ],
   "source": [
    "print(10 + 10)\n",
    "print(2345 - 354)\n",
    "print(10 * 10)\n",
    "print(10 / 2)"
   ]
  },
  {
   "cell_type": "markdown",
   "id": "61104f7a",
   "metadata": {},
   "source": [
    "## Calculando el valor total del proyecto"
   ]
  },
  {
   "cell_type": "code",
   "execution_count": 31,
   "id": "789a48e8",
   "metadata": {},
   "outputs": [],
   "source": [
    "valor_total = int(horas_estimadas) * int(valor_hora)"
   ]
  },
  {
   "cell_type": "code",
   "execution_count": 33,
   "id": "ccc0cb7a",
   "metadata": {},
   "outputs": [
    {
     "data": {
      "text/plain": [
       "10800"
      ]
     },
     "execution_count": 33,
     "metadata": {},
     "output_type": "execute_result"
    }
   ],
   "source": [
    "valor_total"
   ]
  },
  {
   "cell_type": "markdown",
   "id": "770d1104",
   "metadata": {},
   "source": [
    "## Generando archivo PDF del presupuesto"
   ]
  },
  {
   "cell_type": "code",
   "execution_count": 34,
   "id": "33457672",
   "metadata": {},
   "outputs": [
    {
     "name": "stdout",
     "output_type": "stream",
     "text": [
      "Collecting fpdf\n",
      "  Downloading fpdf-1.7.2.tar.gz (39 kB)\n",
      "  Installing build dependencies: started\n",
      "  Installing build dependencies: finished with status 'done'\n",
      "  Getting requirements to build wheel: started\n",
      "  Getting requirements to build wheel: finished with status 'done'\n",
      "  Preparing metadata (pyproject.toml): started\n",
      "  Preparing metadata (pyproject.toml): finished with status 'done'\n",
      "Building wheels for collected packages: fpdf\n",
      "  Building wheel for fpdf (pyproject.toml): started\n",
      "  Building wheel for fpdf (pyproject.toml): finished with status 'done'\n",
      "  Created wheel for fpdf: filename=fpdf-1.7.2-py2.py3-none-any.whl size=40771 sha256=f3bf0ee984458a69da83c687ce2858d79add683f92ba5129a9bfa8f569252b43\n",
      "  Stored in directory: c:\\users\\camilo\\appdata\\local\\pip\\cache\\wheels\\44\\35\\8b\\86ce00cec7e4d13c5f189680ae0fa82f919bedc066c2cddae9\n",
      "Successfully built fpdf\n",
      "Installing collected packages: fpdf\n",
      "Successfully installed fpdf-1.7.2\n"
     ]
    }
   ],
   "source": [
    "! pip install fpdf"
   ]
  },
  {
   "cell_type": "code",
   "execution_count": 35,
   "id": "66e198e5",
   "metadata": {},
   "outputs": [],
   "source": [
    "from fpdf import FPDF"
   ]
  },
  {
   "cell_type": "code",
   "execution_count": null,
   "id": "769901aa",
   "metadata": {},
   "outputs": [
    {
     "name": "stdout",
     "output_type": "stream",
     "text": [
      "Presupuesto generado con exito!!!\n"
     ]
    }
   ],
   "source": [
    "pdf = FPDF()\n",
    "pdf.add_page()\n",
    "pdf.set_font(\"Arial\")\n",
    "\n",
    "#pdf.image(\"template.png\", 0, 0)\n",
    "\n",
    "pdf.text(115, 145, proyecto)\n",
    "pdf.text(115, 160, horas_estimadas)\n",
    "pdf.text(115, 175, valor_hora)\n",
    "pdf.text(115, 190, tiempo_estimado)\n",
    "pdf.text(115, 205, str(valor_total))\n",
    "\n",
    "pdf.output(\"presupuesto.pdf\")\n",
    "print(\"Presupuesto generado con exito!!!\")"
   ]
  }
 ],
 "metadata": {
  "kernelspec": {
   "display_name": ".venv",
   "language": "python",
   "name": "python3"
  },
  "language_info": {
   "codemirror_mode": {
    "name": "ipython",
    "version": 3
   },
   "file_extension": ".py",
   "mimetype": "text/x-python",
   "name": "python",
   "nbconvert_exporter": "python",
   "pygments_lexer": "ipython3",
   "version": "3.9.13"
  }
 },
 "nbformat": 4,
 "nbformat_minor": 5
}
